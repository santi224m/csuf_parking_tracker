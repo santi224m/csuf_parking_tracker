{
 "cells": [
  {
   "cell_type": "code",
   "execution_count": 1,
   "id": "95099be2-4881-45af-970d-9160cf09770b",
   "metadata": {},
   "outputs": [],
   "source": [
    "from bs4 import BeautifulSoup\n",
    "import requests"
   ]
  },
  {
   "cell_type": "code",
   "execution_count": 2,
   "id": "d323a834-f24b-4378-af67-212367f1179e",
   "metadata": {},
   "outputs": [],
   "source": [
    "url = \"https://parking.fullerton.edu/parkinglotcounts/mobile.aspx\""
   ]
  },
  {
   "cell_type": "code",
   "execution_count": 3,
   "id": "451723c0-d5e0-4299-a1eb-cee74fdb3be7",
   "metadata": {},
   "outputs": [],
   "source": [
    "r = requests.get(url)\n",
    "data = r.text\n",
    "soup = BeautifulSoup(data)"
   ]
  },
  {
   "cell_type": "code",
   "execution_count": 25,
   "id": "601785b4-42ca-40c5-9b53-0d51f5c4d2bf",
   "metadata": {},
   "outputs": [],
   "source": [
    "table = soup.find_all('table', {\"class\": \"AvailabilityTable\"})[0]\n",
    "all_tr = table.find_all('tr')"
   ]
  },
  {
   "cell_type": "code",
   "execution_count": 50,
   "id": "c5cb701b-09d9-4f4a-8e3f-95bb5b82bf42",
   "metadata": {},
   "outputs": [],
   "source": [
    "exclude_locs = set(['Fullerton Free Church'])"
   ]
  },
  {
   "cell_type": "code",
   "execution_count": 52,
   "id": "3ab04ddc-4558-4edd-94ca-08c3f33c4eb8",
   "metadata": {},
   "outputs": [
    {
     "name": "stdout",
     "output_type": "stream",
     "text": [
      "Nutwood Structure\n",
      "2479 \n",
      "\n",
      "State College Structure\n",
      "1355 \n",
      "\n",
      "Eastside North\n",
      "1878 \n",
      "\n",
      "Eastside South\n",
      "1284 \n",
      "\n",
      "Lot A & G\n",
      "1644 \n",
      "\n"
     ]
    }
   ],
   "source": [
    "for tr in all_tr:\n",
    "    name_el = tr.css.select('.LocationName a')\n",
    "    if len(name_el) == 0:\n",
    "        name_el = tr.css.select('.LocationName span')\n",
    "    if len(name_el) == 0: continue\n",
    "    struct_name = name_el[0].text\n",
    "    if struct_name in exclude_locs: continue\n",
    "    print(struct_name)\n",
    "    avail_count_el = tr.css.select('.AvailableCountYellow span')\n",
    "    if len(avail_count_el) == 0: continue\n",
    "    avail_count = avail_count_el[0].text\n",
    "    if not avail_count.isdigit(): continue\n",
    "    avail_count = int(avail_count)\n",
    "    print(avail_count, '\\n')"
   ]
  }
 ],
 "metadata": {
  "kernelspec": {
   "display_name": "Python 3 (ipykernel)",
   "language": "python",
   "name": "python3"
  },
  "language_info": {
   "codemirror_mode": {
    "name": "ipython",
    "version": 3
   },
   "file_extension": ".py",
   "mimetype": "text/x-python",
   "name": "python",
   "nbconvert_exporter": "python",
   "pygments_lexer": "ipython3",
   "version": "3.11.2"
  }
 },
 "nbformat": 4,
 "nbformat_minor": 5
}
